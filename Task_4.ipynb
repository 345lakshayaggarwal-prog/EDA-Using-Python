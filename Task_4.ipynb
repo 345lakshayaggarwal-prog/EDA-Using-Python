{
  "nbformat": 4,
  "nbformat_minor": 0,
  "metadata": {
    "colab": {
      "provenance": [],
      "mount_file_id": "1fw2KMTj7ZvG7D-iwh4Rh9pyFJSu3iTMM",
      "authorship_tag": "ABX9TyPhJpSW9PPgOylcYwBUlHtA",
      "include_colab_link": true
    },
    "kernelspec": {
      "name": "python3",
      "display_name": "Python 3"
    },
    "language_info": {
      "name": "python"
    }
  },
  "cells": [
    {
      "cell_type": "markdown",
      "metadata": {
        "id": "view-in-github",
        "colab_type": "text"
      },
      "source": [
        "<a href=\"https://colab.research.google.com/github/345lakshayaggarwal-prog/EDA-Using-Python/blob/main/Task_4.ipynb\" target=\"_parent\"><img src=\"https://colab.research.google.com/assets/colab-badge.svg\" alt=\"Open In Colab\"/></a>"
      ]
    },
    {
      "cell_type": "markdown",
      "source": [
        "# **Complete Hypothesis Testing Workflow**"
      ],
      "metadata": {
        "id": "ra6Jto0PkbdO"
      }
    },
    {
      "cell_type": "code",
      "execution_count": 18,
      "metadata": {
        "id": "3zPLm-lQkQrD"
      },
      "outputs": [],
      "source": [
        "import pandas as pd\n",
        "import numpy as np\n",
        "import scipy.stats as stats\n",
        "import matplotlib.pyplot as plt"
      ]
    },
    {
      "cell_type": "code",
      "source": [
        "# Load dataset (Control vs Test group results)\n",
        "ab_data = pd.read_csv(\"/content/drive/MyDrive/Colab Notebooks/ab_data.csv\", sep=',', on_bad_lines='skip')\n",
        "print('Sample Data:\\n', ab_data.head())"
      ],
      "metadata": {
        "colab": {
          "base_uri": "https://localhost:8080/"
        },
        "collapsed": true,
        "id": "ARxYSGCImtAc",
        "outputId": "4a4e876e-0b52-4edb-f624-08bff450fdb1"
      },
      "execution_count": 19,
      "outputs": [
        {
          "output_type": "stream",
          "name": "stdout",
          "text": [
            "Sample Data:\n",
            "     user_id                   timestamp      group landing_page  converted\n",
            "0  851104.0  2017-01-21 22:11:48.556739    control     old_page        0.0\n",
            "1  804228.0  2017-01-12 08:01:45.159739    control     old_page        0.0\n",
            "2  661590.0  2017-01-11 16:55:06.154213  treatment     new_page        0.0\n",
            "3  853541.0  2017-01-08 18:28:03.143765  treatment     new_page        0.0\n",
            "4  864975.0  2017-01-21 01:52:26.210827    control     old_page        1.0\n"
          ]
        }
      ]
    },
    {
      "cell_type": "code",
      "source": [
        "# 1. Formulate Hypotheses\n",
        "# H₀: New design conversion rate ≤ Old design (p_new - p_old ≤ 0)\n",
        "# H₁: New design conversion rate > Old design (p_new - p_old > 0)"
      ],
      "metadata": {
        "collapsed": true,
        "id": "QoHQcGGcpfiC"
      },
      "execution_count": 20,
      "outputs": []
    },
    {
      "cell_type": "code",
      "source": [
        "# Generate summary\n",
        "summary = (ab_data.groupby(\"group\")[\"converted\"].agg(Visitors=\"count\",Conversions=\"sum\",Conversion_rate=\"mean\").reset_index())\n",
        "\n",
        "# Display summary\n",
        "print(\"A/B Test Data Summary:\\n\", summary)"
      ],
      "metadata": {
        "colab": {
          "base_uri": "https://localhost:8080/"
        },
        "collapsed": true,
        "id": "WVwxeXNMurcY",
        "outputId": "41e6c919-3459-4121-889d-35750595fdd8"
      },
      "execution_count": 21,
      "outputs": [
        {
          "output_type": "stream",
          "name": "stdout",
          "text": [
            "A/B Test Data Summary:\n",
            "           group  Visitors  Conversions  Conversion_rate\n",
            "0             1         0          0.0              NaN\n",
            "1       control    275044      33068.0         0.120228\n",
            "2      new_page         0          0.0              NaN\n",
            "3  treaold_page         0          0.0              NaN\n",
            "4        treatm         1          0.0         0.000000\n",
            "5     treatment    275059      32679.0         0.118807\n",
            "6    treatmente         0          0.0              NaN\n"
          ]
        }
      ]
    },
    {
      "cell_type": "code",
      "source": [
        "# Generate summary\n",
        "summary = (\n",
        "    ab_data[ab_data[\"group\"].isin([\"control\", \"treatment\"])]\n",
        "    .groupby(\"group\")[\"converted\"]\n",
        "    .agg(\n",
        "        Visitors=\"count\",\n",
        "        Conversions=\"sum\",\n",
        "        Conversion_rate=\"mean\"\n",
        "    ))\n",
        "\n",
        "# Display summary\n",
        "print(\"A/B Test Data Summary:\\n\", summary)"
      ],
      "metadata": {
        "id": "v6UCSdW-u200",
        "colab": {
          "base_uri": "https://localhost:8080/"
        },
        "outputId": "c36d0c5e-41ab-41b7-c768-9ff04309529c",
        "collapsed": true
      },
      "execution_count": 22,
      "outputs": [
        {
          "output_type": "stream",
          "name": "stdout",
          "text": [
            "A/B Test Data Summary:\n",
            "            Visitors  Conversions  Conversion_rate\n",
            "group                                            \n",
            "control      275044      33068.0         0.120228\n",
            "treatment    275059      32679.0         0.118807\n"
          ]
        }
      ]
    },
    {
      "cell_type": "markdown",
      "source": [
        "# **Key Responsibilities & Statistical Testing**"
      ],
      "metadata": {
        "id": "S8sFDYZsfoHV"
      }
    },
    {
      "cell_type": "markdown",
      "source": [
        "**1. Two-Proportion Z-Test**"
      ],
      "metadata": {
        "id": "pAXB5xefgQaC"
      }
    },
    {
      "cell_type": "code",
      "source": [
        "# Extract conversion counts\n",
        "conv_old = ab_data[ab_data['group'] == 'control']['converted'].sum()\n",
        "conv_new = ab_data[ab_data['group'] == 'treatment']['converted'].sum()\n",
        "n_old = ab_data[ab_data['group'] == 'control'].shape[0]\n",
        "n_new = ab_data[ab_data['group'] == 'treatment'].shape[0]"
      ],
      "metadata": {
        "id": "CXNV72c00oQ1"
      },
      "execution_count": 23,
      "outputs": []
    },
    {
      "cell_type": "code",
      "source": [
        "import statsmodels.api as sm\n",
        "from statsmodels.stats.proportion import proportions_ztest\n",
        "\n",
        "# Perform Z-test\n",
        "z_score, p_value = proportions_ztest(\n",
        "[conv_new, conv_old],\n",
        "[n_new, n_old],\n",
        "alternative='larger' # One-tailed test\n",
        ")\n",
        "print(f\"Z-score: {z_score:.2f}, p-value: {p_value:.4f}\")"
      ],
      "metadata": {
        "colab": {
          "base_uri": "https://localhost:8080/"
        },
        "id": "5q1aib5bOkqz",
        "outputId": "6d4c5263-ad52-46ce-cda6-b20101ff8025"
      },
      "execution_count": 24,
      "outputs": [
        {
          "output_type": "stream",
          "name": "stdout",
          "text": [
            "Z-score: -1.62, p-value: 0.9478\n"
          ]
        }
      ]
    },
    {
      "cell_type": "markdown",
      "source": [
        "**2. Confidence Interval Visualization**"
      ],
      "metadata": {
        "id": "j5fSKECNs2XN"
      }
    },
    {
      "cell_type": "code",
      "source": [
        "# Calculate 95% CIs\n",
        "from statsmodels.stats.proportion import proportion_confint\n",
        "ci_old = proportion_confint(conv_old, n_old, alpha=0.05)\n",
        "ci_new = proportion_confint(conv_new, n_new, alpha=0.05)"
      ],
      "metadata": {
        "id": "chCqJt-vOK6K"
      },
      "execution_count": 25,
      "outputs": []
    },
    {
      "cell_type": "code",
      "source": [
        "# Plot results\n",
        "plt.figure(figsize=(10,6))\n",
        "\n",
        "# Get the mean conversion rates from the summary dataframe\n",
        "mean_old = summary.loc['control', 'Conversion_rate']\n",
        "mean_new = summary.loc['treatment', 'Conversion_rate']\n",
        "\n",
        "plt.errorbar(x=[0,1], y=[mean_old, mean_new],\n",
        "             yerr=[[mean_old - ci_old[0]], [mean_new - ci_new[0]]],\n",
        "             fmt='o', capsize=10)\n",
        "plt.xticks([0,1], ['Control', 'Treatment'])\n",
        "plt.ylabel('Conversion Rate')\n",
        "plt.title('95% Confidence Intervals')\n",
        "plt.grid(alpha=0.2)"
      ],
      "metadata": {
        "colab": {
          "base_uri": "https://localhost:8080/",
          "height": 545
        },
        "id": "J6fCXWqA6Nzx",
        "outputId": "2bc65a1d-e1a4-4345-9d75-06fb45e88265"
      },
      "execution_count": 26,
      "outputs": [
        {
          "output_type": "display_data",
          "data": {
            "text/plain": [
              "<Figure size 1000x600 with 1 Axes>"
            ],
            "image/png": "[encoded data removed]"
          },
          "metadata": {}
        }
      ]
    },
    {
      "cell_type": "markdown",
      "source": [
        "# **Advanced Testing Scenarios**"
      ],
      "metadata": {
        "id": "E-NfR-fG7SXx"
      }
    },
    {
      "cell_type": "markdown",
      "source": [
        "**Chi-Square Test (Categorical Relationships)**"
      ],
      "metadata": {
        "id": "vB19OxdK7Xtc"
      }
    },
    {
      "cell_type": "code",
      "source": [
        "# Example: Test if device type affects conversion\n",
        "contingency_table = pd.crosstab(ab_data['group'], ab_data['converted'])\n",
        "chi2, p, dof, _ = stats.chi2_contingency(contingency_table)\n",
        "print(f\"Chi-square p-value: {p:.5f}\")"
      ],
      "metadata": {
        "colab": {
          "base_uri": "https://localhost:8080/"
        },
        "id": "V_VUJ45L6RYd",
        "outputId": "e21c7115-2eb4-4762-f868-76a245ceca90"
      },
      "execution_count": 27,
      "outputs": [
        {
          "output_type": "stream",
          "name": "stdout",
          "text": [
            "Chi-square p-value: 0.24984\n"
          ]
        }
      ]
    },
    {
      "cell_type": "markdown",
      "source": [
        "# **Experimental Design Principles**"
      ],
      "metadata": {
        "id": "EUsr5Ay5DFb2"
      }
    },
    {
      "cell_type": "markdown",
      "source": [
        "**1. Sample Size Calculation:**"
      ],
      "metadata": {
        "id": "ub7hbXo7DJNQ"
      }
    },
    {
      "cell_type": "code",
      "source": [
        "from statsmodels.stats.power import TTestIndPower\n",
        "effect_size = 0.2 # Minimum detectable effect\n",
        "power = 0.8 # Standard power level\n",
        "analysis = TTestIndPower()\n",
        "sample_size = analysis.solve_power(effect_size, power=power, alpha=0.05)\n",
        "\n",
        "print(f\"Required sample per group: {int(sample_size)}\")"
      ],
      "metadata": {
        "id": "ROK7056Y8sHx",
        "colab": {
          "base_uri": "https://localhost:8080/"
        },
        "outputId": "fc8f2c45-1da7-45b3-e902-60ab861d61c5"
      },
      "execution_count": 32,
      "outputs": [
        {
          "output_type": "stream",
          "name": "stdout",
          "text": [
            "Required sample per group: 393\n"
          ]
        }
      ]
    },
    {
      "cell_type": "code",
      "source": [],
      "metadata": {
        "id": "KbN-UEx4DWzA"
      },
      "execution_count": null,
      "outputs": []
    }
  ]
}